{
  "cells": [
    {
      "cell_type": "code",
      "execution_count": 1,
      "metadata": {
        "id": "RPY2dYeNFjrg"
      },
      "outputs": [],
      "source": [
        "!apt-get install openjdk-8-jdk-headless -qq > /dev/null\n",
        "!wget -q https://archive.apache.org/dist/spark/spark-3.1.1/spark-3.1.1-bin-hadoop2.7.tgz\n",
        "!tar xf spark-3.1.1-bin-hadoop2.7.tgz"
      ]
    },
    {
      "cell_type": "code",
      "execution_count": 2,
      "metadata": {
        "id": "qaNmXxGrFuCD"
      },
      "outputs": [],
      "source": [
        "import os\n",
        "os.environ[\"JAVA_HOME\"] = \"/usr/lib/jvm/java-8-openjdk-amd64\"\n",
        "os.environ[\"SPARK_HOME\"] = \"/content/spark-3.1.1-bin-hadoop2.7\""
      ]
    },
    {
      "cell_type": "code",
      "execution_count": 3,
      "metadata": {
        "colab": {
          "base_uri": "https://localhost:8080/"
        },
        "id": "bYtoDOcLF8yq",
        "outputId": "164825f2-1bf8-4c8b-ca2f-bdb5558dfb78"
      },
      "outputs": [
        {
          "output_type": "stream",
          "name": "stdout",
          "text": [
            "Looking in indexes: https://pypi.org/simple, https://us-python.pkg.dev/colab-wheels/public/simple/\n",
            "Collecting pyspark\n",
            "  Downloading pyspark-3.3.2.tar.gz (281.4 MB)\n",
            "\u001b[2K     \u001b[90m━━━━━━━━━━━━━━━━━━━━━━━━━━━━━━━━━━━━━━━\u001b[0m \u001b[32m281.4/281.4 MB\u001b[0m \u001b[31m4.0 MB/s\u001b[0m eta \u001b[36m0:00:00\u001b[0m\n",
            "\u001b[?25h  Preparing metadata (setup.py) ... \u001b[?25l\u001b[?25hdone\n",
            "Collecting py4j==0.10.9.5\n",
            "  Downloading py4j-0.10.9.5-py2.py3-none-any.whl (199 kB)\n",
            "\u001b[2K     \u001b[90m━━━━━━━━━━━━━━━━━━━━━━━━━━━━━━━━━━━━━━\u001b[0m \u001b[32m199.7/199.7 KB\u001b[0m \u001b[31m20.1 MB/s\u001b[0m eta \u001b[36m0:00:00\u001b[0m\n",
            "\u001b[?25hBuilding wheels for collected packages: pyspark\n",
            "  Building wheel for pyspark (setup.py) ... \u001b[?25l\u001b[?25hdone\n",
            "  Created wheel for pyspark: filename=pyspark-3.3.2-py2.py3-none-any.whl size=281824025 sha256=a42a8eec23b7f93f704391c555c8b91f68e089342edac1436c4900bc595705c7\n",
            "  Stored in directory: /root/.cache/pip/wheels/6c/e3/9b/0525ce8a69478916513509d43693511463c6468db0de237c86\n",
            "Successfully built pyspark\n",
            "Installing collected packages: py4j, pyspark\n",
            "Successfully installed py4j-0.10.9.5 pyspark-3.3.2\n"
          ]
        }
      ],
      "source": [
        "!pip install -q findspark\n",
        "!pip install pyspark"
      ]
    },
    {
      "cell_type": "code",
      "execution_count": 4,
      "metadata": {
        "colab": {
          "base_uri": "https://localhost:8080/"
        },
        "id": "_Q0DuZp2F-MX",
        "outputId": "86b75cc1-55b8-4275-af2e-31756f767faa"
      },
      "outputs": [
        {
          "output_type": "stream",
          "name": "stdout",
          "text": [
            "Mounted at /content/gdrive\n"
          ]
        }
      ],
      "source": [
        "from google.colab import drive\n",
        "drive.mount('/content/gdrive')"
      ]
    },
    {
      "cell_type": "code",
      "source": [
        "import findspark\n",
        "findspark.init()"
      ],
      "metadata": {
        "id": "QbZ2fFKgeQ9O"
      },
      "execution_count": 5,
      "outputs": []
    },
    {
      "cell_type": "code",
      "source": [],
      "metadata": {
        "id": "N9I8YBXue8Z3"
      },
      "execution_count": null,
      "outputs": []
    },
    {
      "cell_type": "code",
      "execution_count": 6,
      "metadata": {
        "id": "VU8kC2nJTUdB"
      },
      "outputs": [],
      "source": [
        "from pyspark.sql import SparkSession"
      ]
    },
    {
      "cell_type": "code",
      "execution_count": 7,
      "metadata": {
        "id": "mAlndDJyDuag"
      },
      "outputs": [],
      "source": [
        "APP_NAME = \"Final_Project_Code_gb563\""
      ]
    },
    {
      "cell_type": "code",
      "execution_count": 8,
      "metadata": {
        "id": "flNZrdlNDuas"
      },
      "outputs": [],
      "source": [
        "spark = SparkSession.builder.appName(APP_NAME).getOrCreate()"
      ]
    },
    {
      "cell_type": "code",
      "execution_count": 9,
      "metadata": {
        "colab": {
          "base_uri": "https://localhost:8080/",
          "height": 221
        },
        "id": "MTEXZ7oBUQsh",
        "outputId": "e093b2fa-aa64-442e-eba0-9410af8433e4"
      },
      "outputs": [
        {
          "output_type": "execute_result",
          "data": {
            "text/plain": [
              "<pyspark.sql.session.SparkSession at 0x7f2a6c1e8dc0>"
            ],
            "text/html": [
              "\n",
              "            <div>\n",
              "                <p><b>SparkSession - in-memory</b></p>\n",
              "                \n",
              "        <div>\n",
              "            <p><b>SparkContext</b></p>\n",
              "\n",
              "            <p><a href=\"http://efd36a834e86:4040\">Spark UI</a></p>\n",
              "\n",
              "            <dl>\n",
              "              <dt>Version</dt>\n",
              "                <dd><code>v3.1.1</code></dd>\n",
              "              <dt>Master</dt>\n",
              "                <dd><code>local[*]</code></dd>\n",
              "              <dt>AppName</dt>\n",
              "                <dd><code>Final_Project_Code_gb563</code></dd>\n",
              "            </dl>\n",
              "        </div>\n",
              "        \n",
              "            </div>\n",
              "        "
            ]
          },
          "metadata": {},
          "execution_count": 9
        }
      ],
      "source": [
        "spark"
      ]
    },
    {
      "cell_type": "markdown",
      "metadata": {
        "id": "ty-Hw33MVk3v"
      },
      "source": [
        "# Load dataset from file"
      ]
    },
    {
      "cell_type": "code",
      "execution_count": 10,
      "metadata": {
        "colab": {
          "base_uri": "https://localhost:8080/"
        },
        "id": "42Lui7cRVbjj",
        "outputId": "a4f222b9-c9a9-4013-c40f-ac709a82e021"
      },
      "outputs": [
        {
          "output_type": "stream",
          "name": "stdout",
          "text": [
            "+----+------+---+------------------+----+---+---------+-------+-------+-------+--------+--------+--------+-----+-----+------+--------+--------+--------+-----+------+---------+---------+\n",
            "|YEAR|ADMQTR|CPT|BMI               |Age |SEX|FNSTATUS2|ASACLAS|STEROID|ASCITES|VENTILAT|DIABETES|HYPERMED|HXCHF|SMOKE|HXCOPD|DIALYSIS|DISCANCR|BLEEDDIS|PRHCT|PRSODM|MORTALITY|MORBIDITY|\n",
            "+----+------+---+------------------+----+---+---------+-------+-------+-------+--------+--------+--------+-----+-----+------+--------+--------+--------+-----+------+---------+---------+\n",
            "|0   |1.0   |0  |27.70313379620942 |75.0|0.0|0.0      |3.0    |0      |0      |0       |0       |1       |0    |1    |0     |0       |0       |0       |42.2 |139.0 |0        |0        |\n",
            "|0   |1.0   |1  |33.83324661810614 |66.0|1.0|0.0      |2.0    |0      |0      |0       |0       |0       |0    |0    |0     |0       |0       |0       |42.2 |136.0 |0        |0        |\n",
            "|0   |1.0   |1  |23.672448979591838|39.0|0.0|0.0      |1.0    |0      |0      |0       |0       |0       |0    |0    |0     |0       |0       |0       |43.7 |138.0 |0        |0        |\n",
            "|0   |1.0   |1  |25.087770061728396|70.0|0.0|0.0      |2.0    |0      |0      |0       |0       |0       |0    |0    |0     |0       |0       |0       |44.4 |141.0 |0        |0        |\n",
            "|0   |1.0   |0  |27.43236212278876 |73.0|1.0|0.0      |2.0    |0      |0      |0       |0       |1       |0    |0    |0     |0       |0       |1       |35.9 |134.0 |0        |0        |\n",
            "+----+------+---+------------------+----+---+---------+-------+-------+-------+--------+--------+--------+-----+-----+------+--------+--------+--------+-----+------+---------+---------+\n",
            "only showing top 5 rows\n",
            "\n"
          ]
        }
      ],
      "source": [
        "data = spark.read.csv('/content/gdrive/MyDrive/DSCI 632/Ortho_COVID_632.csv',header=True,inferSchema = True)\n",
        "data.show(5, truncate=False)"
      ]
    },
    {
      "cell_type": "markdown",
      "source": [
        "# Let's check data types"
      ],
      "metadata": {
        "id": "hNGHdb--4pfN"
      }
    },
    {
      "cell_type": "code",
      "source": [
        "data.printSchema()"
      ],
      "metadata": {
        "colab": {
          "base_uri": "https://localhost:8080/"
        },
        "id": "3okJs8w34otQ",
        "outputId": "dac33dbf-64ee-46a0-96cf-b661339fd7da"
      },
      "execution_count": 11,
      "outputs": [
        {
          "output_type": "stream",
          "name": "stdout",
          "text": [
            "root\n",
            " |-- YEAR: integer (nullable = true)\n",
            " |-- ADMQTR: double (nullable = true)\n",
            " |-- CPT: integer (nullable = true)\n",
            " |-- BMI: double (nullable = true)\n",
            " |-- Age: double (nullable = true)\n",
            " |-- SEX: double (nullable = true)\n",
            " |-- FNSTATUS2: double (nullable = true)\n",
            " |-- ASACLAS: double (nullable = true)\n",
            " |-- STEROID: integer (nullable = true)\n",
            " |-- ASCITES: integer (nullable = true)\n",
            " |-- VENTILAT: integer (nullable = true)\n",
            " |-- DIABETES: integer (nullable = true)\n",
            " |-- HYPERMED: integer (nullable = true)\n",
            " |-- HXCHF: integer (nullable = true)\n",
            " |-- SMOKE: integer (nullable = true)\n",
            " |-- HXCOPD: integer (nullable = true)\n",
            " |-- DIALYSIS: integer (nullable = true)\n",
            " |-- DISCANCR: integer (nullable = true)\n",
            " |-- BLEEDDIS: integer (nullable = true)\n",
            " |-- PRHCT: double (nullable = true)\n",
            " |-- PRSODM: double (nullable = true)\n",
            " |-- MORTALITY: integer (nullable = true)\n",
            " |-- MORBIDITY: integer (nullable = true)\n",
            "\n"
          ]
        }
      ]
    },
    {
      "cell_type": "markdown",
      "source": [
        "Data description:\n",
        "* Year: integer 0-4 corresponding to 2017-2021\n",
        "* ADMQTR: Admit quarter, 1-4 corresponding to annual quarter\n",
        "* CPT: Current Procedural Terminology code, 0 = Knee Arthroplasty, 1 = Hip Arhtroplasty\n",
        "* BMI: Body Mass Index\n",
        "* Age: age in years\n",
        "* SEX: Gender, 0 = Male, 1 = Female\n",
        "* FNSTATUS2: Post-operative functional status, 0 = independent, 1 = partially dependent, 2 = fully dependent\n",
        "* ASACLAS: American Society of Anesthesiologists Physical Status Score, 1-5\n",
        "* STEROID: steroid use, 0 = No, 1 = Yes\n",
        "* ASCITES: ascitic abdominal fluid, 0 = No, 1 = Ye\n",
        "* VENTILAT: pre-operative ventilator requirement\n",
        "* DIABETES: 0 = No, 1 = Yes (medication dependent)\n",
        "* HYPERMED: high blood pressure\n",
        "* HXCHF: Congestive heart failure, 0 = No, 1 = Yes\n",
        "* SMOKE: Smoker, 0 = No, 1 = Yes\n",
        "* HXCOPD: Chronic obtructive pulmonary disease, 0 = No, 1 = Yes\n",
        "* DIALYSIS: dialysis dependent, 0 = No, 1 = Yes\n",
        "* DISCANCR: Cancer, 0 = No, 1 = Yes\n",
        "* BLEEDDIS: Bleeding disorder, 0 = No, 1 = Yes\n",
        "* PRHCT: Pre-operative hematocrit, float\n",
        "* PRSODM: Pre-operative sodium level, float\n",
        "* MORTALITY: Death within 30 days, 0 = No, 1 = Yes\n",
        "* MORBIDITY: Morbidity within 30 days, 0 = No, 1 = Yes"
      ],
      "metadata": {
        "id": "DEdigYs62B8N"
      }
    },
    {
      "cell_type": "markdown",
      "metadata": {
        "id": "Yh4eyaogGeI-"
      },
      "source": [
        "# Let's drop missing values"
      ]
    },
    {
      "cell_type": "code",
      "source": [
        "print('Original dataset has {:d} patients'.format(data.count()))\n",
        "print('')\n",
        "data2=data.dropna(how='any')\n",
        "print('After dropping rows with missing data, new dataset has {:d} patients'.format(data2.count()))"
      ],
      "metadata": {
        "colab": {
          "base_uri": "https://localhost:8080/"
        },
        "id": "VXqwxOEb4a-L",
        "outputId": "e9e9e2cc-b45e-457f-e993-c5aee1e3faf0"
      },
      "execution_count": 12,
      "outputs": [
        {
          "output_type": "stream",
          "name": "stdout",
          "text": [
            "Original dataset has 508103 patients\n",
            "\n",
            "After dropping rows with missing data, new dataset has 455476 patients\n"
          ]
        }
      ]
    },
    {
      "cell_type": "markdown",
      "source": [
        "# Data Exploration"
      ],
      "metadata": {
        "id": "BB624tTu_kTO"
      }
    },
    {
      "cell_type": "markdown",
      "source": [
        "Let's build the Outcome/Target Variable (Combined Morbidity and Mortality). Goal is to set the Target to 1 if either Morbidity or Mortality or both are 1."
      ],
      "metadata": {
        "id": "VqvMXnk-_yD-"
      }
    },
    {
      "cell_type": "code",
      "source": [
        "from pyspark.sql.functions import col, udf\n",
        "from pyspark.sql.types import IntegerType\n",
        "\n",
        "def process_target(x,y):\n",
        "  return 1 if x==1 or y==1 else 0\n",
        "\n",
        "combo_udf = udf(lambda x,y: process_target(x,y),IntegerType())\n",
        "\n",
        "data2=data2.withColumn('Target',combo_udf(col('MORBIDITY'),col('MORTALITY')))\n",
        "\n",
        "data2.groupby('Target').count().show()"
      ],
      "metadata": {
        "colab": {
          "base_uri": "https://localhost:8080/"
        },
        "id": "yRaywPwh51oZ",
        "outputId": "50c77d4a-57ec-4dbe-bce6-fc3d8bdedd22"
      },
      "execution_count": 13,
      "outputs": [
        {
          "output_type": "stream",
          "name": "stdout",
          "text": [
            "+------+------+\n",
            "|Target| count|\n",
            "+------+------+\n",
            "|     1| 16025|\n",
            "|     0|439451|\n",
            "+------+------+\n",
            "\n"
          ]
        }
      ]
    },
    {
      "cell_type": "markdown",
      "source": [
        "Now, let's make train and test datasets. We'll use temporal validation, so we'll train on Years 0-3 (2017-2020) and test on Year 4 (2021)"
      ],
      "metadata": {
        "id": "uA8bH9q4mTKL"
      }
    },
    {
      "cell_type": "code",
      "source": [
        "data_train = data2.filter(data2.YEAR<4)\n",
        "data_test = data2.filter(data2.YEAR==4)\n",
        "\n",
        "print('train data:')\n",
        "data_train.groupby('Target').count().show()\n",
        "print('')\n",
        "print('test data:')\n",
        "data_test.groupby('Target').count().show()"
      ],
      "metadata": {
        "colab": {
          "base_uri": "https://localhost:8080/"
        },
        "id": "OgDkibfBmNfI",
        "outputId": "9d7b3941-dbc3-4986-c515-0c719cfe121b"
      },
      "execution_count": 14,
      "outputs": [
        {
          "output_type": "stream",
          "name": "stdout",
          "text": [
            "train data:\n",
            "+------+------+\n",
            "|Target| count|\n",
            "+------+------+\n",
            "|     1| 12865|\n",
            "|     0|354868|\n",
            "+------+------+\n",
            "\n",
            "\n",
            "test data:\n",
            "+------+-----+\n",
            "|Target|count|\n",
            "+------+-----+\n",
            "|     1| 3160|\n",
            "|     0|84583|\n",
            "+------+-----+\n",
            "\n"
          ]
        }
      ]
    },
    {
      "cell_type": "markdown",
      "source": [
        "Baseline data on outcomes:"
      ],
      "metadata": {
        "id": "f5KebWdGoQFn"
      }
    },
    {
      "cell_type": "code",
      "source": [
        "data_train.groupBy('Target').count().show()\n",
        "data_test.groupBy('Target').count().show()"
      ],
      "metadata": {
        "colab": {
          "base_uri": "https://localhost:8080/"
        },
        "id": "pinph57NoO7H",
        "outputId": "bd01feb9-aa9e-4750-a086-0ed35b5ff43a"
      },
      "execution_count": 16,
      "outputs": [
        {
          "output_type": "stream",
          "name": "stdout",
          "text": [
            "+------+------+\n",
            "|Target| count|\n",
            "+------+------+\n",
            "|     1| 12865|\n",
            "|     0|354868|\n",
            "+------+------+\n",
            "\n",
            "+------+-----+\n",
            "|Target|count|\n",
            "+------+-----+\n",
            "|     1| 3160|\n",
            "|     0|84583|\n",
            "+------+-----+\n",
            "\n"
          ]
        }
      ]
    },
    {
      "cell_type": "code",
      "source": [
        "12865/(12865+354868)"
      ],
      "metadata": {
        "colab": {
          "base_uri": "https://localhost:8080/"
        },
        "id": "zzDV2KZFp3PL",
        "outputId": "509da276-14cf-493b-be46-74e3922db933"
      },
      "execution_count": 17,
      "outputs": [
        {
          "output_type": "execute_result",
          "data": {
            "text/plain": [
              "0.0349846219947625"
            ]
          },
          "metadata": {},
          "execution_count": 17
        }
      ]
    },
    {
      "cell_type": "code",
      "source": [
        "3160/(3160+84583)"
      ],
      "metadata": {
        "colab": {
          "base_uri": "https://localhost:8080/"
        },
        "id": "awE-6XLop7zr",
        "outputId": "38e5e5d9-1cdd-4f4f-ffa4-5b325b363d73"
      },
      "execution_count": 18,
      "outputs": [
        {
          "output_type": "execute_result",
          "data": {
            "text/plain": [
              "0.036014268944531184"
            ]
          },
          "metadata": {},
          "execution_count": 18
        }
      ]
    },
    {
      "cell_type": "markdown",
      "source": [
        "Now let's explore predictors: Categorical/binary"
      ],
      "metadata": {
        "id": "R7D2OgohA-fL"
      }
    },
    {
      "cell_type": "code",
      "source": [
        "categorical_variables = ['YEAR','CPT','SEX','FNSTATUS2','ASACLAS','STEROID','ASCITES','VENTILAT','DIABETES',\\\n",
        "                         'HYPERMED','HXCHF','SMOKE','HXCOPD','DIALYSIS','DISCANCR','BLEEDDIS']\n",
        "\n",
        "print('Train data:')\n",
        "for cat in categorical_variables:\n",
        "  data_train.groupby(cat).count().show()\n",
        "\n",
        "print('')\n",
        "print('Test data:')\n",
        "for cat in categorical_variables:\n",
        "  data_test.groupby(cat).count().show()"
      ],
      "metadata": {
        "colab": {
          "base_uri": "https://localhost:8080/"
        },
        "id": "KKONpslvBA_6",
        "outputId": "d04da202-7b70-4743-a547-125873554d93"
      },
      "execution_count": 16,
      "outputs": [
        {
          "output_type": "stream",
          "name": "stdout",
          "text": [
            "Train data:\n",
            "+----+------+\n",
            "|YEAR| count|\n",
            "+----+------+\n",
            "|   1| 95033|\n",
            "|   3| 75476|\n",
            "|   2|106188|\n",
            "|   0| 91036|\n",
            "+----+------+\n",
            "\n",
            "+---+------+\n",
            "|CPT| count|\n",
            "+---+------+\n",
            "|  1|143103|\n",
            "|  0|224630|\n",
            "+---+------+\n",
            "\n",
            "+---+------+\n",
            "|SEX| count|\n",
            "+---+------+\n",
            "|0.0|152193|\n",
            "|1.0|215540|\n",
            "+---+------+\n",
            "\n",
            "+---------+------+\n",
            "|FNSTATUS2| count|\n",
            "+---------+------+\n",
            "|      0.0|362852|\n",
            "|      1.0|  4660|\n",
            "|      2.0|   221|\n",
            "+---------+------+\n",
            "\n",
            "+-------+------+\n",
            "|ASACLAS| count|\n",
            "+-------+------+\n",
            "|    1.0|  8065|\n",
            "|    4.0|  6973|\n",
            "|    3.0|175097|\n",
            "|    2.0|177598|\n",
            "+-------+------+\n",
            "\n",
            "+-------+------+\n",
            "|STEROID| count|\n",
            "+-------+------+\n",
            "|      1| 13381|\n",
            "|      0|354352|\n",
            "+-------+------+\n",
            "\n",
            "+-------+------+\n",
            "|ASCITES| count|\n",
            "+-------+------+\n",
            "|      1|    60|\n",
            "|      0|367673|\n",
            "+-------+------+\n",
            "\n",
            "+--------+------+\n",
            "|VENTILAT| count|\n",
            "+--------+------+\n",
            "|       1|    20|\n",
            "|       0|367713|\n",
            "+--------+------+\n",
            "\n",
            "+--------+------+\n",
            "|DIABETES| count|\n",
            "+--------+------+\n",
            "|       1| 59426|\n",
            "|       0|308307|\n",
            "+--------+------+\n",
            "\n",
            "+--------+------+\n",
            "|HYPERMED| count|\n",
            "+--------+------+\n",
            "|       1|223943|\n",
            "|       0|143790|\n",
            "+--------+------+\n",
            "\n",
            "+-----+------+\n",
            "|HXCHF| count|\n",
            "+-----+------+\n",
            "|    1|  1481|\n",
            "|    0|366252|\n",
            "+-----+------+\n",
            "\n",
            "+-----+------+\n",
            "|SMOKE| count|\n",
            "+-----+------+\n",
            "|    1| 34081|\n",
            "|    0|333652|\n",
            "+-----+------+\n",
            "\n",
            "+------+------+\n",
            "|HXCOPD| count|\n",
            "+------+------+\n",
            "|     1| 12946|\n",
            "|     0|354787|\n",
            "+------+------+\n",
            "\n",
            "+--------+------+\n",
            "|DIALYSIS| count|\n",
            "+--------+------+\n",
            "|       1|   754|\n",
            "|       0|366979|\n",
            "+--------+------+\n",
            "\n",
            "+--------+------+\n",
            "|DISCANCR| count|\n",
            "+--------+------+\n",
            "|       1|   971|\n",
            "|       0|366762|\n",
            "+--------+------+\n",
            "\n",
            "+--------+------+\n",
            "|BLEEDDIS| count|\n",
            "+--------+------+\n",
            "|       1|  7159|\n",
            "|       0|360574|\n",
            "+--------+------+\n",
            "\n",
            "\n",
            "Test data:\n",
            "+----+-----+\n",
            "|YEAR|count|\n",
            "+----+-----+\n",
            "|   4|87743|\n",
            "+----+-----+\n",
            "\n",
            "+---+-----+\n",
            "|CPT|count|\n",
            "+---+-----+\n",
            "|  1|36334|\n",
            "|  0|51409|\n",
            "+---+-----+\n",
            "\n",
            "+---+-----+\n",
            "|SEX|count|\n",
            "+---+-----+\n",
            "|0.0|36804|\n",
            "|1.0|50939|\n",
            "+---+-----+\n",
            "\n",
            "+---------+-----+\n",
            "|FNSTATUS2|count|\n",
            "+---------+-----+\n",
            "|      0.0|86398|\n",
            "|      1.0| 1279|\n",
            "|      2.0|   66|\n",
            "+---------+-----+\n",
            "\n",
            "+-------+-----+\n",
            "|ASACLAS|count|\n",
            "+-------+-----+\n",
            "|    1.0| 1662|\n",
            "|    4.0| 1662|\n",
            "|    3.0|42947|\n",
            "|    2.0|41472|\n",
            "+-------+-----+\n",
            "\n",
            "+-------+-----+\n",
            "|STEROID|count|\n",
            "+-------+-----+\n",
            "|      1| 3753|\n",
            "|      0|83990|\n",
            "+-------+-----+\n",
            "\n",
            "+-------+-----+\n",
            "|ASCITES|count|\n",
            "+-------+-----+\n",
            "|      1|   16|\n",
            "|      0|87727|\n",
            "+-------+-----+\n",
            "\n",
            "+--------+-----+\n",
            "|VENTILAT|count|\n",
            "+--------+-----+\n",
            "|       1|    4|\n",
            "|       0|87739|\n",
            "+--------+-----+\n",
            "\n",
            "+--------+-----+\n",
            "|DIABETES|count|\n",
            "+--------+-----+\n",
            "|       1|13918|\n",
            "|       0|73825|\n",
            "+--------+-----+\n",
            "\n",
            "+--------+-----+\n",
            "|HYPERMED|count|\n",
            "+--------+-----+\n",
            "|       1|52496|\n",
            "|       0|35247|\n",
            "+--------+-----+\n",
            "\n",
            "+-----+-----+\n",
            "|HXCHF|count|\n",
            "+-----+-----+\n",
            "|    1| 1957|\n",
            "|    0|85786|\n",
            "+-----+-----+\n",
            "\n",
            "+-----+-----+\n",
            "|SMOKE|count|\n",
            "+-----+-----+\n",
            "|    1| 7433|\n",
            "|    0|80310|\n",
            "+-----+-----+\n",
            "\n",
            "+------+-----+\n",
            "|HXCOPD|count|\n",
            "+------+-----+\n",
            "|     1| 2984|\n",
            "|     0|84759|\n",
            "+------+-----+\n",
            "\n",
            "+--------+-----+\n",
            "|DIALYSIS|count|\n",
            "+--------+-----+\n",
            "|       1|  155|\n",
            "|       0|87588|\n",
            "+--------+-----+\n",
            "\n",
            "+--------+-----+\n",
            "|DISCANCR|count|\n",
            "+--------+-----+\n",
            "|       1|  242|\n",
            "|       0|87501|\n",
            "+--------+-----+\n",
            "\n",
            "+--------+-----+\n",
            "|BLEEDDIS|count|\n",
            "+--------+-----+\n",
            "|       1| 1805|\n",
            "|       0|85938|\n",
            "+--------+-----+\n",
            "\n"
          ]
        }
      ]
    },
    {
      "cell_type": "markdown",
      "source": [
        "Predictors: Continuous"
      ],
      "metadata": {
        "id": "NFunBbBXHMIS"
      }
    },
    {
      "cell_type": "code",
      "source": [
        "data_train.select('BMI','Age','PRHCT','PRSODM').describe().show()\n",
        "data_test.select('BMI','Age','PRHCT','PRSODM').describe().show()"
      ],
      "metadata": {
        "colab": {
          "base_uri": "https://localhost:8080/"
        },
        "id": "OGFKvTm94a55",
        "outputId": "cba83e95-4fb3-413f-d31d-b4b0c2a4c678"
      },
      "execution_count": 21,
      "outputs": [
        {
          "output_type": "stream",
          "name": "stdout",
          "text": [
            "+-------+------------------+-----------------+-----------------+------------------+\n",
            "|summary|               BMI|              Age|            PRHCT|            PRSODM|\n",
            "+-------+------------------+-----------------+-----------------+------------------+\n",
            "|  count|            367733|           367733|           367733|            367733|\n",
            "|   mean| 31.91233842961324|66.67665942409302|41.31513600900681|139.71287692429016|\n",
            "| stddev| 6.542737211342963|10.06055177948963|4.022911625023297|2.7466470798973397|\n",
            "|    min|11.524590163934427|             18.0|             18.0|             116.0|\n",
            "|    max| 79.33159722222223|             90.0|             60.0|             160.0|\n",
            "+-------+------------------+-----------------+-----------------+------------------+\n",
            "\n",
            "+-------+------------------+-----------------+------------------+------------------+\n",
            "|summary|               BMI|              Age|             PRHCT|            PRSODM|\n",
            "+-------+------------------+-----------------+------------------+------------------+\n",
            "|  count|             87743|            87743|             87743|             87743|\n",
            "|   mean|31.759046007747532|66.82693776141687| 41.37979189223037|139.36124819073885|\n",
            "| stddev| 6.451863956126642|10.12967429007388|4.0734362104042985|2.6665200787333694|\n",
            "|    min|10.926696072253728|             18.0|              19.0|             119.0|\n",
            "|    max| 78.31768595041322|             90.0|              59.7|             160.0|\n",
            "+-------+------------------+-----------------+------------------+------------------+\n",
            "\n"
          ]
        }
      ]
    },
    {
      "cell_type": "markdown",
      "source": [
        "# Univariate Analysis"
      ],
      "metadata": {
        "id": "y9wl0lLiLBHo"
      }
    },
    {
      "cell_type": "markdown",
      "source": [
        "Let's assess which variables are associated with the outcome to plan our multivariable model. We'll just do this with the train data since we don't want to cause a data leak into the test data."
      ],
      "metadata": {
        "id": "rva7p_zjLFvV"
      }
    },
    {
      "cell_type": "markdown",
      "source": [
        "Categorical:"
      ],
      "metadata": {
        "id": "_Fdfg3AjLMIY"
      }
    },
    {
      "cell_type": "code",
      "source": [
        "from pyspark.ml.stat import ChiSquareTest\n",
        "from pyspark.ml.linalg import Vectors\n",
        "from pyspark.ml.feature import VectorAssembler\n",
        "\n",
        "vec = VectorAssembler(inputCols=[c for c in categorical_variables],outputCol='variables')\n",
        "data2_vec_outcome = vec.transform(data_train).select('Target', 'variables')\n",
        "\n",
        "cat_chi_square = ChiSquareTest.test(data2_vec_outcome, 'variables', 'Target').head()\n",
        "print('Target:')\n",
        "for c in range(len(categorical_variables)):\n",
        "  print('{:s}: p-value = {:.5f}'.format(categorical_variables[c],list(cat_chi_square.pValues)[c]))\n",
        "\n"
      ],
      "metadata": {
        "colab": {
          "base_uri": "https://localhost:8080/"
        },
        "id": "d626dyUSLODE",
        "outputId": "9c0c3cf0-7974-4b9f-c1e3-30d2656e5871"
      },
      "execution_count": 18,
      "outputs": [
        {
          "output_type": "stream",
          "name": "stdout",
          "text": [
            "Target:\n",
            "YEAR: p-value = 0.00002\n",
            "CPT: p-value = 0.00000\n",
            "SEX: p-value = 0.00000\n",
            "FNSTATUS2: p-value = 0.00000\n",
            "ASACLAS: p-value = 0.00000\n",
            "STEROID: p-value = 0.00000\n",
            "ASCITES: p-value = 0.00057\n",
            "VENTILAT: p-value = 0.00006\n",
            "DIABETES: p-value = 0.00000\n",
            "HYPERMED: p-value = 0.00000\n",
            "HXCHF: p-value = 0.00000\n",
            "SMOKE: p-value = 0.00000\n",
            "HXCOPD: p-value = 0.00000\n",
            "DIALYSIS: p-value = 0.00000\n",
            "DISCANCR: p-value = 0.00000\n",
            "BLEEDDIS: p-value = 0.00000\n"
          ]
        }
      ]
    },
    {
      "cell_type": "markdown",
      "source": [
        "Looks like all categorical variables have a significant association with the target outcome"
      ],
      "metadata": {
        "id": "MxgBL6vg8m6D"
      }
    },
    {
      "cell_type": "markdown",
      "source": [
        "Continuous:"
      ],
      "metadata": {
        "id": "1tz-k03c9EKI"
      }
    },
    {
      "cell_type": "code",
      "source": [
        "from scipy.stats import mannwhitneyu\n",
        "continuous_variables = ['BMI','Age','PRHCT','PRSODM']\n",
        "\n",
        "print('Morbidity or Mortality:')\n",
        "for cont in continuous_variables:\n",
        "#make separate dataframes\n",
        "  data2_no_outcome = data_train.filter(data2.Target==0)\n",
        "  data2_yes_outcome = data_train.filter(data2.Target==1)\n",
        "  val,p = mannwhitneyu(data2_no_outcome.select(cont).toPandas()[cont],data2_yes_outcome.select(cont).toPandas()[cont])\n",
        "  print('{:s}, p-value = {:5f}'.format(cont,p))\n",
        "\n",
        "\n"
      ],
      "metadata": {
        "colab": {
          "base_uri": "https://localhost:8080/"
        },
        "id": "XfUCubWpUYS_",
        "outputId": "a017fab0-78a4-4378-c95e-3cd3ce776584"
      },
      "execution_count": 19,
      "outputs": [
        {
          "output_type": "stream",
          "name": "stdout",
          "text": [
            "Morbidity or Mortality:\n",
            "BMI, p-value = 0.000000\n",
            "Age, p-value = 0.000000\n",
            "PRHCT, p-value = 0.000000\n",
            "PRSODM, p-value = 0.000000\n"
          ]
        }
      ]
    },
    {
      "cell_type": "markdown",
      "source": [
        "It appears that all continuous values have significant associations with the outcome on univariate analysis"
      ],
      "metadata": {
        "id": "lcP3UgfEYrYI"
      }
    },
    {
      "cell_type": "markdown",
      "source": [
        "# Model Building and Multivariable Analysis"
      ],
      "metadata": {
        "id": "XS6FQ9lCYvi8"
      }
    },
    {
      "cell_type": "code",
      "source": [
        "#Let's recast some of the doubles to integers. Age, ASACLAS, FNSTATUS2, and SEX started as doubles since they had NaN's\\\n",
        "#even though the really are just categorical variables"
      ],
      "metadata": {
        "id": "dbRZaWRgX9gm"
      },
      "execution_count": null,
      "outputs": []
    },
    {
      "cell_type": "code",
      "source": [
        "data2=data2.withColumn('Age',col('Age').cast('integer'))\n",
        "data2=data2.withColumn('ASACLAS',col('ASACLAS').cast('integer'))\n",
        "data2=data2.withColumn('FNSTATUS2',col('FNSTATUS2').cast('integer'))\n",
        "data2=data2.withColumn('SEX',col('SEX').cast('integer'))\n",
        "\n"
      ],
      "metadata": {
        "id": "cxa8qRCK4eQI"
      },
      "execution_count": 20,
      "outputs": []
    },
    {
      "cell_type": "code",
      "source": [
        "#dummy variables for categorical, non-binary outcomes\n",
        "from pyspark.ml.feature import OneHotEncoder\n",
        "One_Hots = OneHotEncoder(inputCols=['FNSTATUS2','ASACLAS'],outputCols=['FNSTATUS2_OH','ASACLAS_OH'])\n",
        "\n",
        "#Now assemble a vector.\n",
        "from pyspark.ml.feature import VectorAssembler\n",
        "v_assembler = VectorAssembler(inputCols = ['CPT','SEX','FNSTATUS2_OH', 'ASACLAS_OH','STEROID','ASCITES',\\\n",
        "                                           'VENTILAT','DIABETES','HYPERMED','HXCHF','SMOKE','HXCOPD', 'DIALYSIS',\\\n",
        "                                           'DISCANCR','BLEEDDIS','Age','BMI','PRHCT','PRSODM'],outputCol='Inputs')\n",
        "\n",
        "#Now put the Pipeline together to build feature vectures for further processing\n",
        "from pyspark.ml import Pipeline\n",
        "pipe = Pipeline(stages=[One_Hots,v_assembler])\n",
        "\n",
        "preprocessed_data=pipe.fit(data2).transform(data2)\n",
        "preprocessed_data.show(10,truncate=False)\n",
        "\n"
      ],
      "metadata": {
        "colab": {
          "base_uri": "https://localhost:8080/"
        },
        "id": "AzIM3oCI4g50",
        "outputId": "0cbede79-b2fc-4f9f-efda-2e8805128b91"
      },
      "execution_count": 27,
      "outputs": [
        {
          "output_type": "stream",
          "name": "stdout",
          "text": [
            "+----+------+---+------------------+---+---+---------+-------+-------+-------+--------+--------+--------+-----+-----+------+--------+--------+--------+-----+------+---------+---------+------+-------------+-------------+--------------------------------------------------------------------------------------+\n",
            "|YEAR|ADMQTR|CPT|BMI               |Age|SEX|FNSTATUS2|ASACLAS|STEROID|ASCITES|VENTILAT|DIABETES|HYPERMED|HXCHF|SMOKE|HXCOPD|DIALYSIS|DISCANCR|BLEEDDIS|PRHCT|PRSODM|MORTALITY|MORBIDITY|Target|FNSTATUS2_OH |ASACLAS_OH   |Inputs                                                                                |\n",
            "+----+------+---+------------------+---+---+---------+-------+-------+-------+--------+--------+--------+-----+-----+------+--------+--------+--------+-----+------+---------+---------+------+-------------+-------------+--------------------------------------------------------------------------------------+\n",
            "|0   |1.0   |0  |27.70313379620942 |75 |0  |0        |3      |0      |0      |0       |0       |1       |0    |1    |0     |0       |0       |0       |42.2 |139.0 |0        |0        |0     |(2,[0],[1.0])|(4,[3],[1.0])|(23,[2,7,12,14,19,20,21,22],[1.0,1.0,1.0,1.0,75.0,27.70313379620942,42.2,139.0])      |\n",
            "|0   |1.0   |1  |33.83324661810614 |66 |1  |0        |2      |0      |0      |0       |0       |0       |0    |0    |0     |0       |0       |0       |42.2 |136.0 |0        |0        |0     |(2,[0],[1.0])|(4,[2],[1.0])|(23,[0,1,2,6,19,20,21,22],[1.0,1.0,1.0,1.0,66.0,33.83324661810614,42.2,136.0])        |\n",
            "|0   |1.0   |1  |23.672448979591838|39 |0  |0        |1      |0      |0      |0       |0       |0       |0    |0    |0     |0       |0       |0       |43.7 |138.0 |0        |0        |0     |(2,[0],[1.0])|(4,[1],[1.0])|(23,[0,2,5,19,20,21,22],[1.0,1.0,1.0,39.0,23.672448979591838,43.7,138.0])             |\n",
            "|0   |1.0   |1  |25.087770061728396|70 |0  |0        |2      |0      |0      |0       |0       |0       |0    |0    |0     |0       |0       |0       |44.4 |141.0 |0        |0        |0     |(2,[0],[1.0])|(4,[2],[1.0])|(23,[0,2,6,19,20,21,22],[1.0,1.0,1.0,70.0,25.087770061728396,44.4,141.0])             |\n",
            "|0   |1.0   |0  |27.43236212278876 |73 |1  |0        |2      |0      |0      |0       |0       |1       |0    |0    |0     |0       |0       |1       |35.9 |134.0 |0        |0        |0     |(2,[0],[1.0])|(4,[2],[1.0])|(23,[1,2,6,12,18,19,20,21,22],[1.0,1.0,1.0,1.0,1.0,73.0,27.43236212278876,35.9,134.0])|\n",
            "|0   |1.0   |0  |27.3659169550173  |62 |0  |0        |2      |0      |0      |0       |0       |1       |0    |0    |0     |0       |0       |0       |48.7 |135.0 |0        |0        |0     |(2,[0],[1.0])|(4,[2],[1.0])|(23,[2,6,12,19,20,21,22],[1.0,1.0,1.0,62.0,27.3659169550173,48.7,135.0])              |\n",
            "|0   |1.0   |0  |39.492977777777774|73 |0  |0        |3      |0      |0      |0       |0       |1       |0    |0    |0     |0       |0       |1       |38.1 |140.0 |0        |0        |0     |(2,[0],[1.0])|(4,[3],[1.0])|(23,[2,7,12,18,19,20,21,22],[1.0,1.0,1.0,1.0,73.0,39.492977777777774,38.1,140.0])     |\n",
            "|0   |1.0   |0  |23.334150144798397|65 |0  |0        |2      |0      |0      |0       |0       |0       |0    |0    |0     |0       |0       |0       |39.6 |140.0 |0        |1        |1     |(2,[0],[1.0])|(4,[2],[1.0])|(23,[2,6,19,20,21,22],[1.0,1.0,65.0,23.334150144798397,39.6,140.0])                   |\n",
            "|0   |1.0   |0  |26.123313609467456|86 |0  |0        |2      |0      |0      |0       |0       |1       |0    |0    |0     |0       |0       |0       |43.2 |139.0 |0        |0        |0     |(2,[0],[1.0])|(4,[2],[1.0])|(23,[2,6,12,19,20,21,22],[1.0,1.0,1.0,86.0,26.123313609467456,43.2,139.0])            |\n",
            "|0   |1.0   |0  |28.315277777777776|65 |1  |0        |2      |0      |0      |0       |0       |0       |0    |0    |0     |0       |0       |0       |41.9 |136.0 |0        |0        |0     |(2,[0],[1.0])|(4,[2],[1.0])|(23,[1,2,6,19,20,21,22],[1.0,1.0,1.0,65.0,28.315277777777776,41.9,136.0])             |\n",
            "+----+------+---+------------------+---+---+---------+-------+-------+-------+--------+--------+--------+-----+-----+------+--------+--------+--------+-----+------+---------+---------+------+-------------+-------------+--------------------------------------------------------------------------------------+\n",
            "only showing top 10 rows\n",
            "\n"
          ]
        }
      ]
    },
    {
      "cell_type": "markdown",
      "source": [
        "Split data by years to train on years 0-3 (2017-2020) and predict 4 (2021)"
      ],
      "metadata": {
        "id": "Quwt05H40-pG"
      }
    },
    {
      "cell_type": "code",
      "source": [
        "data_train_2 = preprocessed_data.filter(preprocessed_data.YEAR<4)\n",
        "data_test_2 = preprocessed_data.filter(preprocessed_data.YEAR==4)"
      ],
      "metadata": {
        "id": "5NxBdWyY4ja8"
      },
      "execution_count": 28,
      "outputs": []
    },
    {
      "cell_type": "code",
      "source": [
        "print('Training data size: ',data_train_2.count())\n",
        "print('Test data size: ',data_test_2.count())"
      ],
      "metadata": {
        "colab": {
          "base_uri": "https://localhost:8080/"
        },
        "id": "b19BuzYZ1URj",
        "outputId": "2175b4a3-24eb-463f-d99e-a38fedc6af95"
      },
      "execution_count": 29,
      "outputs": [
        {
          "output_type": "stream",
          "name": "stdout",
          "text": [
            "Training data size:  367733\n",
            "Test data size:  87743\n"
          ]
        }
      ]
    },
    {
      "cell_type": "markdown",
      "source": [
        "(1) Logistic Regression"
      ],
      "metadata": {
        "id": "ugehgvGQ3mo5"
      }
    },
    {
      "cell_type": "code",
      "execution_count": 30,
      "metadata": {
        "id": "CMKGOShLT6FQ"
      },
      "outputs": [],
      "source": [
        "targets = data_train_2.select('Target').collect()\n",
        "Target='Target'\n",
        "\n",
        "#Train model\n",
        "from pyspark.ml.classification import LogisticRegression\n",
        "model_LR = LogisticRegression(featuresCol='Inputs',labelCol=Target).fit(data_train_2)\n",
        "\n",
        "#Make Predictions\n",
        "predictions_LR = model_LR.transform(data_test_2)\n"
      ]
    },
    {
      "cell_type": "code",
      "source": [],
      "metadata": {
        "id": "pIu3rP0Jv7E3"
      },
      "execution_count": null,
      "outputs": []
    },
    {
      "cell_type": "code",
      "source": [],
      "metadata": {
        "id": "Aeyy_kfYv7-l"
      },
      "execution_count": null,
      "outputs": []
    },
    {
      "cell_type": "markdown",
      "source": [
        "(2) Random Forest"
      ],
      "metadata": {
        "id": "N8eMyts65ECu"
      }
    },
    {
      "cell_type": "code",
      "source": [
        "from pyspark.ml.classification import RandomForestClassifier\n",
        "from sklearn.metrics import roc_auc_score, roc_curve\n",
        "\n",
        "targets = data_test_2.select('Target').collect()\n",
        "Target='Target'\n",
        "\n",
        "#set up grid search\n",
        "max_depth_grid = [2,4,6,8]\n",
        "num_trees_grid = [5,10,15]\n",
        "\n",
        "rf_performance_holder = []\n",
        "for m in max_depth_grid:\n",
        "  for n in num_trees_grid: \n",
        "    rf = RandomForestClassifier(featuresCol='Inputs',labelCol=Target, numTrees=n,maxDepth = m)\n",
        "    model_RF = rf.fit(data_train_2)\n",
        "    predictions_RF = model_RF.transform(data_test_2)\n",
        "    preds_RF = [i[0][1] for i in predictions_RF.select('probability').collect()]\n",
        "    AUC_RF = roc_auc_score(targets,preds_RF)\n",
        "    rf_performance_holder.append((AUC_RF,m,n))\n",
        "\n",
        "print(\"best random forest performance:\")\n",
        "print(sorted(rf_performance_holder,key=lambda x: x[0],reverse=True)[0])"
      ],
      "metadata": {
        "colab": {
          "base_uri": "https://localhost:8080/"
        },
        "id": "3K4TVDMk5FU-",
        "outputId": "6edb2a0f-f029-49da-9713-9844965f6e60"
      },
      "execution_count": 31,
      "outputs": [
        {
          "output_type": "stream",
          "name": "stdout",
          "text": [
            "best random forest performance:\n",
            "(0.6115152751615259, 8, 15)\n"
          ]
        }
      ]
    },
    {
      "cell_type": "code",
      "source": [
        "#train final Random Forest model with best hyperparameters\n",
        "rf = RandomForestClassifier(featuresCol='Inputs',labelCol=Target, numTrees=15,maxDepth = 8)\n",
        "model_RF = rf.fit(data_train_2)\n",
        "predictions_RF = model_RF.transform(data_test_2)"
      ],
      "metadata": {
        "id": "Qj_cS9NG7TEt"
      },
      "execution_count": 32,
      "outputs": []
    },
    {
      "cell_type": "markdown",
      "source": [
        "(3) Naive Bayes"
      ],
      "metadata": {
        "id": "oiOk-p6kS70A"
      }
    },
    {
      "cell_type": "code",
      "source": [
        "from pyspark.ml.classification import NaiveBayes\n",
        "\n",
        "targets = data_test_2.select('Target').collect()\n",
        "Target='Target'\n",
        "\n",
        "#set up grid search\n",
        "alpha = [0.001,0.01,0.1,1,10,100,1000]\n",
        "\n",
        "nb_performance_holder=[]\n",
        "for alph in alpha:\n",
        "  NB = NaiveBayes(smoothing=alph, featuresCol = 'Inputs', labelCol = Target, modelType=\"multinomial\")\n",
        "  model_NB = NB.fit(data_train_2)\n",
        "  predictions_NB = model_NB.transform(data_test_2)\n",
        "  preds_NB = [i[0][1] for i in predictions_NB.select('probability').collect()]\n",
        "  AUC_NB = roc_auc_score(targets,preds_NB)\n",
        "  nb_performance_holder.append((AUC_NB,alph))\n",
        "\n",
        "print(\"best Naive Bayes performance:\")\n",
        "print(sorted(nb_performance_holder,key=lambda x: x[0],reverse=True)[0])\n"
      ],
      "metadata": {
        "colab": {
          "base_uri": "https://localhost:8080/"
        },
        "id": "oPt3FBMqYqef",
        "outputId": "f0c40c60-e556-49e5-c824-929d4b4b439c"
      },
      "execution_count": 33,
      "outputs": [
        {
          "output_type": "stream",
          "name": "stdout",
          "text": [
            "best Naive Bayes performance:\n",
            "(0.6108245466179053, 0.001)\n"
          ]
        }
      ]
    },
    {
      "cell_type": "code",
      "source": [
        "#train final Random Forest model with best hyperparameters\n",
        "NB = NaiveBayes(smoothing=0.001, featuresCol = 'Inputs', labelCol = Target, modelType=\"multinomial\")\n",
        "model_NB = NB.fit(data_train_2)\n",
        "predictions_NB = model_NB.transform(data_test_2)"
      ],
      "metadata": {
        "id": "QAoK-Mhjq-FR"
      },
      "execution_count": 34,
      "outputs": []
    },
    {
      "cell_type": "code",
      "source": [],
      "metadata": {
        "id": "FkZIAGu5pR8i"
      },
      "execution_count": null,
      "outputs": []
    },
    {
      "cell_type": "code",
      "source": [],
      "metadata": {
        "id": "CSR4P5NbZTBx"
      },
      "execution_count": null,
      "outputs": []
    },
    {
      "cell_type": "code",
      "source": [],
      "metadata": {
        "id": "nA9vd3sES8sY"
      },
      "execution_count": null,
      "outputs": []
    },
    {
      "cell_type": "markdown",
      "source": [
        "# Model Performance Evaluation"
      ],
      "metadata": {
        "id": "pL_P5mVrQQOu"
      }
    },
    {
      "cell_type": "markdown",
      "source": [
        "First look at area under the receiver operating characteristic curve"
      ],
      "metadata": {
        "id": "dBj1v4NxQX87"
      }
    },
    {
      "cell_type": "code",
      "source": [
        "from sklearn.metrics import roc_auc_score, roc_curve\n",
        "import matplotlib.pyplot as plt\n",
        "\n",
        "\n",
        "preds_LR = [i[0][1] for i in predictions_LR.select('probability').collect()]\n",
        "preds_RF = [i[0][1] for i in predictions_RF.select('probability').collect()]\n",
        "preds_NB = [i[0][1] for i in predictions_NB.select('probability').collect()]\n",
        "\n",
        "AUC_LR = roc_auc_score(targets,preds_LR)\n",
        "AUC_RF = roc_auc_score(targets,preds_RF)\n",
        "AUC_NB = roc_auc_score(targets,preds_NB)\n",
        "\n",
        "fp_LR, tp_LR, _ = roc_curve(targets, preds_LR)\n",
        "fp_RF, tp_RF, _ = roc_curve(targets, preds_RF)\n",
        "fp_NB, tp_NB, _ = roc_curve(targets, preds_NB)\n",
        "\n",
        "plt.plot(fp_LR,tp_LR,'b',label='Logistic Regression, AUC {:.2f}'.format(AUC_LR))\n",
        "plt.plot(fp_RF,tp_RF,'r',label='Random Forest, AUC {:.2f}'.format(AUC_RF))\n",
        "plt.plot(fp_NB,tp_NB,'g',label='Naive Bayes, AUC {:.2f}'.format(AUC_NB))\n",
        "\n",
        "plt.legend()\n",
        "plt.plot([0,1],[0,1],'k--')\n",
        "plt.xlabel('False Positive Rate')\n",
        "plt.ylabel('True Positive Rate')\n"
      ],
      "metadata": {
        "colab": {
          "base_uri": "https://localhost:8080/",
          "height": 297
        },
        "id": "KLTV9_9MP2Pz",
        "outputId": "3be788df-f8a9-4a92-c430-704c6a475831"
      },
      "execution_count": 35,
      "outputs": [
        {
          "output_type": "execute_result",
          "data": {
            "text/plain": [
              "Text(0, 0.5, 'True Positive Rate')"
            ]
          },
          "metadata": {},
          "execution_count": 35
        },
        {
          "output_type": "display_data",
          "data": {
            "text/plain": [
              "<Figure size 432x288 with 1 Axes>"
            ],
            "image/png": "[encoded data removed]"
          },
          "metadata": {
            "needs_background": "light"
          }
        }
      ]
    },
    {
      "cell_type": "markdown",
      "source": [
        "Next look at calibration curve"
      ],
      "metadata": {
        "id": "ajf3pEhuQc8_"
      }
    },
    {
      "cell_type": "code",
      "source": [],
      "metadata": {
        "id": "Bxm1SD5X3M-Z"
      },
      "execution_count": null,
      "outputs": []
    },
    {
      "cell_type": "code",
      "source": [
        "import numpy as np\n",
        "from sklearn.calibration import calibration_curve\n",
        "\n",
        "x_LR,y_LR = calibration_curve(targets,preds_LR,n_bins=10,strategy='quantile')\n",
        "x_RF,y_RF = calibration_curve(targets,preds_RF,n_bins=10,strategy='quantile')\n",
        "x_NB,y_NB = calibration_curve(targets,preds_NB,n_bins=10,strategy='quantile')\n",
        "\n",
        "plt.plot([0,12],[0,12],'k--')\n",
        "plt.plot([100*i for i in y_LR],[100*i for i in x_LR],'b-')\n",
        "plt.plot([100*i for i in y_RF],[100*i for i in x_RF],'r-')\n",
        "plt.plot([100*i for i in y_NB],[100*i for i in x_NB],'g-')\n",
        "\n",
        "plt.plot([100*i for i in y_LR],[100*i for i in x_LR],'b^')\n",
        "plt.plot([100*i for i in y_RF],[100*i for i in x_RF],'r^')\n",
        "plt.plot([100*i for i in y_NB],[100*i for i in x_NB],'g^')\n",
        "\n",
        "plt.legend(['Perfect Calibration','Logistic Regression','Random Forest','Naive Bayes'])\n",
        "plt.title('Calibration Curve for Logistic Regression Model')\n",
        "plt.ylabel('Observed Target (%)')\n",
        "plt.xlabel('Predicted Target (%)')\n",
        "#plt.ylim(0,1)\n",
        "#plt.xlim(0,1)\n"
      ],
      "metadata": {
        "colab": {
          "base_uri": "https://localhost:8080/",
          "height": 313
        },
        "id": "DkdLfgeSP2Jz",
        "outputId": "3b7729d0-56f8-45ce-b919-52e24f11ed85"
      },
      "execution_count": 36,
      "outputs": [
        {
          "output_type": "execute_result",
          "data": {
            "text/plain": [
              "Text(0.5, 0, 'Predicted Target (%)')"
            ]
          },
          "metadata": {},
          "execution_count": 36
        },
        {
          "output_type": "display_data",
          "data": {
            "text/plain": [
              "<Figure size 432x288 with 1 Axes>"
            ],
            "image/png": "[encoded data removed]"
          },
          "metadata": {
            "needs_background": "light"
          }
        }
      ]
    },
    {
      "cell_type": "code",
      "source": [],
      "metadata": {
        "id": "czl-wF3V3kiy"
      },
      "execution_count": null,
      "outputs": []
    },
    {
      "cell_type": "code",
      "source": [],
      "metadata": {
        "id": "hpiY0ejbxc3N"
      },
      "execution_count": null,
      "outputs": []
    },
    {
      "cell_type": "code",
      "source": [],
      "metadata": {
        "id": "FCvhe-0k1Sq7"
      },
      "execution_count": null,
      "outputs": []
    }
  ],
  "metadata": {
    "colab": {
      "provenance": []
    },
    "kernelspec": {
      "display_name": "Python 3",
      "language": "python",
      "name": "python3"
    },
    "language_info": {
      "codemirror_mode": {
        "name": "ipython",
        "version": 3
      },
      "file_extension": ".py",
      "mimetype": "text/x-python",
      "name": "python",
      "nbconvert_exporter": "python",
      "pygments_lexer": "ipython3",
      "version": "3.7.0"
    }
  },
  "nbformat": 4,
  "nbformat_minor": 0
}